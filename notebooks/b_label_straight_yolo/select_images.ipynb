{
 "cells": [
  {
   "cell_type": "markdown",
   "metadata": {},
   "source": [
    "# Seleccionar imagenes para el etiquetado en label studio"
   ]
  },
  {
   "cell_type": "code",
   "execution_count": 1,
   "metadata": {},
   "outputs": [],
   "source": [
    "import os\n",
    "import random\n",
    "import shutil"
   ]
  },
  {
   "cell_type": "code",
   "execution_count": 2,
   "metadata": {},
   "outputs": [
    {
     "name": "stdout",
     "output_type": "stream",
     "text": [
      "Imágenes seleccionadas y copiadas correctamente.\n"
     ]
    }
   ],
   "source": [
    "# Rutas base\n",
    "base_dir = 'data/a_org'\n",
    "dest_base_dir = 'data/c_label_yolo'\n",
    "\n",
    "# Carpetas a procesar\n",
    "carpetas = ['asistencia', 'votacion']\n",
    "\n",
    "# Crear carpetas de destino si no existen\n",
    "for carpeta in carpetas:\n",
    "    os.makedirs(os.path.join(dest_base_dir, carpeta), exist_ok=True)\n",
    "\n",
    "# Procesar cada carpeta\n",
    "for carpeta in carpetas:\n",
    "    origen = os.path.join(base_dir, carpeta)\n",
    "    destino = os.path.join(dest_base_dir, carpeta)\n",
    "\n",
    "    # Listar solo archivos con extensiones de imagen\n",
    "    imagenes = [f for f in os.listdir(origen) if f.lower().endswith(('.png', '.jpg', '.jpeg'))]\n",
    "    \n",
    "    # Shuffle y selección de 200 imágenes\n",
    "    random.shuffle(imagenes)\n",
    "    seleccionadas = imagenes[:200]\n",
    "\n",
    "    # Copiar imágenes seleccionadas\n",
    "    for img in seleccionadas:\n",
    "        shutil.copy(os.path.join(origen, img), os.path.join(destino, img))\n",
    "\n",
    "print(\"Imágenes seleccionadas y copiadas correctamente.\")"
   ]
  },
  {
   "cell_type": "code",
   "execution_count": null,
   "metadata": {},
   "outputs": [],
   "source": []
  }
 ],
 "metadata": {
  "kernelspec": {
   "display_name": "venv_dataset",
   "language": "python",
   "name": "python3"
  },
  "language_info": {
   "codemirror_mode": {
    "name": "ipython",
    "version": 3
   },
   "file_extension": ".py",
   "mimetype": "text/x-python",
   "name": "python",
   "nbconvert_exporter": "python",
   "pygments_lexer": "ipython3",
   "version": "3.9.21"
  }
 },
 "nbformat": 4,
 "nbformat_minor": 2
}
