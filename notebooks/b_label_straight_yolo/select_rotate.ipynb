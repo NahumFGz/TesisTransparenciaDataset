{
 "cells": [
  {
   "cell_type": "markdown",
   "metadata": {},
   "source": [
    "# Rotar al azar 70 imagenes de asistencia y votacion"
   ]
  },
  {
   "cell_type": "code",
   "execution_count": 7,
   "metadata": {},
   "outputs": [],
   "source": [
    "import random\n",
    "from pathlib import Path\n",
    "from PIL import Image"
   ]
  },
  {
   "cell_type": "code",
   "execution_count": 8,
   "metadata": {},
   "outputs": [
    {
     "name": "stdout",
     "output_type": "stream",
     "text": [
      "Imágenes rotadas y guardadas correctamente.\n"
     ]
    }
   ],
   "source": [
    "# Ruta base del proyecto\n",
    "base_path = Path('/home/nahumfg/Projects/GithubProjects/TesisTransparenciaDataset/data')\n",
    "origen_dir = base_path / 'a_org'\n",
    "destino_base = base_path / 'b_label_straight_yolo'\n",
    "\n",
    "# Carpetas a procesar\n",
    "carpetas = ['asistencia', 'votacion']\n",
    "\n",
    "# Crear carpetas destino\n",
    "for carpeta in carpetas:\n",
    "    (destino_base / f'rotado_{carpeta}').mkdir(parents=True, exist_ok=True)\n",
    "\n",
    "# Procesar imágenes por carpeta\n",
    "for carpeta in carpetas:\n",
    "    origen = origen_dir / carpeta\n",
    "    destino = destino_base / f'rotado_{carpeta}'\n",
    "\n",
    "    # Filtrar imágenes válidas\n",
    "    imagenes = [f for f in origen.iterdir() if f.suffix.lower() in ['.png', '.jpg', '.jpeg']]\n",
    "\n",
    "    # Seleccionar 30 al azar\n",
    "    seleccionadas = random.sample(imagenes, min(40, len(imagenes)))\n",
    "\n",
    "    for img_path in seleccionadas:\n",
    "        try:\n",
    "            with Image.open(img_path) as img:\n",
    "                # Rotación aleatoria entre -15 y 15 grados (excluyendo 0)\n",
    "                grados = random.uniform(1, 2)\n",
    "                grados *= -1 if random.choice([True, False]) else 1\n",
    "\n",
    "                # Rotar imagen\n",
    "                img_rotada = img.rotate(grados, expand=True, fillcolor='white')\n",
    "\n",
    "                # Nombre de salida\n",
    "                nombre_salida = f\"rotado_{img_path.name}\"\n",
    "                img_rotada.save(destino / nombre_salida)\n",
    "\n",
    "        except Exception as e:\n",
    "            print(f\"Error procesando {img_path.name}: {e}\")\n",
    "\n",
    "print(\"Imágenes rotadas y guardadas correctamente.\")\n"
   ]
  },
  {
   "cell_type": "code",
   "execution_count": null,
   "metadata": {},
   "outputs": [],
   "source": []
  }
 ],
 "metadata": {
  "kernelspec": {
   "display_name": "venv_tesisdataset",
   "language": "python",
   "name": "python3"
  },
  "language_info": {
   "codemirror_mode": {
    "name": "ipython",
    "version": 3
   },
   "file_extension": ".py",
   "mimetype": "text/x-python",
   "name": "python",
   "nbconvert_exporter": "python",
   "pygments_lexer": "ipython3",
   "version": "3.10.12"
  }
 },
 "nbformat": 4,
 "nbformat_minor": 2
}
