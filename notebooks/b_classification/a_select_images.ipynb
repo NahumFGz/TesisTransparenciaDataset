{
 "cells": [
  {
   "cell_type": "code",
   "execution_count": 1,
   "metadata": {},
   "outputs": [],
   "source": [
    "import os\n",
    "import random\n",
    "import shutil"
   ]
  },
  {
   "cell_type": "code",
   "execution_count": 2,
   "metadata": {},
   "outputs": [],
   "source": [
    "def seleccionar_imagenes_aleatorias(origen_base, destino_base, categorias, cantidad=200):\n",
    "    for categoria in categorias:\n",
    "        origen = os.path.join(origen_base, categoria)\n",
    "        destino = os.path.join(destino_base, categoria)\n",
    "\n",
    "        # Crear la carpeta de destino si no existe\n",
    "        os.makedirs(destino, exist_ok=True)\n",
    "\n",
    "        # Obtener la lista de imágenes en la carpeta origen\n",
    "        imagenes = [f for f in os.listdir(origen) if os.path.isfile(os.path.join(origen, f))]\n",
    "\n",
    "        # Seleccionar imágenes aleatoriamente\n",
    "        seleccionadas = random.sample(imagenes, min(cantidad, len(imagenes)))\n",
    "\n",
    "        # Copiar imágenes al destino\n",
    "        for imagen in seleccionadas:\n",
    "            shutil.copy(os.path.join(origen, imagen), os.path.join(destino, imagen))\n",
    "\n",
    "        print(f\"{len(seleccionadas)} imágenes copiadas de '{categoria}' a su carpeta de clasificación.\")"
   ]
  },
  {
   "cell_type": "code",
   "execution_count": 3,
   "metadata": {},
   "outputs": [
    {
     "name": "stdout",
     "output_type": "stream",
     "text": [
      "200 imágenes copiadas de 'asistencia' a su carpeta de clasificación.\n",
      "64 imágenes copiadas de 'otros' a su carpeta de clasificación.\n",
      "200 imágenes copiadas de 'votacion' a su carpeta de clasificación.\n"
     ]
    }
   ],
   "source": [
    "# Uso\n",
    "origen_base = \"/home/nahumfg/Projects/GithubProjects/TesisTransparenciaDataset/data/a_org\"\n",
    "destino_base = \"/home/nahumfg/Projects/GithubProjects/TesisTransparenciaDataset/data/b_classification\"\n",
    "categorias = [\"asistencia\", \"otros\", \"votacion\"]\n",
    "\n",
    "seleccionar_imagenes_aleatorias(origen_base, destino_base, categorias)"
   ]
  },
  {
   "cell_type": "code",
   "execution_count": null,
   "metadata": {},
   "outputs": [],
   "source": []
  }
 ],
 "metadata": {
  "kernelspec": {
   "display_name": "venv_tesisdataset",
   "language": "python",
   "name": "python3"
  },
  "language_info": {
   "codemirror_mode": {
    "name": "ipython",
    "version": 3
   },
   "file_extension": ".py",
   "mimetype": "text/x-python",
   "name": "python",
   "nbconvert_exporter": "python",
   "pygments_lexer": "ipython3",
   "version": "3.10.12"
  }
 },
 "nbformat": 4,
 "nbformat_minor": 2
}
