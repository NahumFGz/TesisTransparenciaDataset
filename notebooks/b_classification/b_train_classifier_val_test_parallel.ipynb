{
 "cells": [
  {
   "cell_type": "code",
   "execution_count": 1,
   "metadata": {},
   "outputs": [],
   "source": [
    "import os\n",
    "import copy\n",
    "import torch\n",
    "import torch.nn as nn\n",
    "import torch.optim as optim\n",
    "from torchvision import datasets, transforms, models\n",
    "from torch.utils.data import DataLoader, random_split\n",
    "from tqdm import tqdm\n",
    "import matplotlib.pyplot as plt"
   ]
  },
  {
   "cell_type": "code",
   "execution_count": 2,
   "metadata": {},
   "outputs": [
    {
     "name": "stdout",
     "output_type": "stream",
     "text": [
      "NVIDIA GeForce RTX 4070 Ti SUPER\n",
      "Memoria total: 15.99169921875 GB\n",
      "Memoria usada: 0.0 GB\n",
      "Memoria reservada: 0.0 GB\n"
     ]
    }
   ],
   "source": [
    "if torch.cuda.is_available():\n",
    "    print(torch.cuda.get_device_name(0))\n",
    "    print(\"Memoria total:\", torch.cuda.get_device_properties(0).total_memory / 1024**3, \"GB\")\n",
    "    print(\"Memoria usada:\", torch.cuda.memory_allocated() / 1024**3, \"GB\")\n",
    "    print(\"Memoria reservada:\", torch.cuda.memory_reserved() / 1024**3, \"GB\")\n",
    "else:\n",
    "    print(\"CUDA no disponible.\")"
   ]
  },
  {
   "cell_type": "code",
   "execution_count": 3,
   "metadata": {},
   "outputs": [],
   "source": [
    "def get_input_size(model_name: str):\n",
    "    \"\"\"\n",
    "    Retorna el tamaño de entrada esperado por el modelo.\n",
    "    \"\"\"\n",
    "    name = model_name.lower()\n",
    "    if name in [\n",
    "        'vgg16', 'resnet50', 'densenet121',\n",
    "        'mobilenet_v2', 'googlenet', 'efficientnet_b0'\n",
    "    ]:\n",
    "        return (224, 224)\n",
    "    elif name == 'inception_v3':\n",
    "        return (299, 299)\n",
    "    else:\n",
    "        return (224, 224)  # valor por defecto"
   ]
  },
  {
   "cell_type": "code",
   "execution_count": 4,
   "metadata": {},
   "outputs": [],
   "source": [
    "def get_model(model_name: str, num_classes: int):\n",
    "    \"\"\"\n",
    "    Carga y retorna un modelo preentrenado con la última capa ajustada a 'num_classes'.\n",
    "    \"\"\"\n",
    "    name = model_name.lower()\n",
    "\n",
    "    # ResNet50\n",
    "    if name == 'resnet50':\n",
    "        model = models.resnet50(weights=models.ResNet50_Weights.DEFAULT)\n",
    "        model.fc = nn.Linear(model.fc.in_features, num_classes)\n",
    "\n",
    "    # VGG16\n",
    "    elif name == 'vgg16':\n",
    "        model = models.vgg16(weights=models.VGG16_Weights.DEFAULT)\n",
    "        model.classifier[6] = nn.Linear(4096, num_classes)\n",
    "\n",
    "    # DenseNet121\n",
    "    elif name == 'densenet121':\n",
    "        model = models.densenet121(weights=models.DenseNet121_Weights.DEFAULT)\n",
    "        model.classifier = nn.Linear(model.classifier.in_features, num_classes)\n",
    "\n",
    "    # MobileNet v2\n",
    "    elif name == 'mobilenet_v2':\n",
    "        model = models.mobilenet_v2(weights=models.MobileNet_V2_Weights.DEFAULT)\n",
    "        model.classifier[1] = nn.Linear(model.classifier[1].in_features, num_classes)\n",
    "\n",
    "    # EfficientNet b0\n",
    "    elif name == 'efficientnet_b0':\n",
    "        model = models.efficientnet_b0(weights=models.EfficientNet_B0_Weights.DEFAULT)\n",
    "        model.classifier[1] = nn.Linear(model.classifier[1].in_features, num_classes)\n",
    "\n",
    "    # Inception v3\n",
    "    elif name == 'inception_v3':\n",
    "        model = models.inception_v3(weights=models.Inception_V3_Weights.DEFAULT, aux_logits=False)\n",
    "        model.fc = nn.Linear(model.fc.in_features, num_classes)\n",
    "\n",
    "    # GoogLeNet\n",
    "    elif name == 'googlenet':\n",
    "        model = models.googlenet(weights=models.GoogLeNet_Weights.DEFAULT, aux_logits=False)\n",
    "        model.fc = nn.Linear(model.fc.in_features, num_classes)\n",
    "\n",
    "    else:\n",
    "        raise NotImplementedError(f\"Modelo '{model_name}' no está implementado.\")\n",
    "\n",
    "    return model"
   ]
  },
  {
   "cell_type": "code",
   "execution_count": 5,
   "metadata": {},
   "outputs": [],
   "source": [
    "def get_dataloaders(\n",
    "    data_dir: str, \n",
    "    model_name: str, \n",
    "    batch_size: int, \n",
    "    train_fraction: float = 0.8, \n",
    "    val_fraction: float = 0.1, \n",
    "    test_fraction: float = 0.1\n",
    "):\n",
    "    \"\"\"\n",
    "    Crea DataLoaders para entrenamiento, validación y test a partir de las imágenes en 'data_dir'.\n",
    "    \n",
    "    Por defecto:\n",
    "      - train_fraction = 0.8 (80%)\n",
    "      - val_fraction   = 0.1 (10%)\n",
    "      - test_fraction  = 0.1 (10%)\n",
    "\n",
    "    Se asume que train_fraction + val_fraction + test_fraction = 1.0\n",
    "    \"\"\"\n",
    "    # Verificamos que la suma sea 1.0 (o muy cercana, por ejemplo 0.9999...1.0001)\n",
    "    total = train_fraction + val_fraction + test_fraction\n",
    "    assert abs(total - 1.0) < 1e-8, \"La suma de train, val y test fractions debe ser 1.0.\"\n",
    "\n",
    "    input_size = get_input_size(model_name)\n",
    "\n",
    "    # Transformaciones de entrada\n",
    "    transform = transforms.Compose([\n",
    "        transforms.Resize(input_size),\n",
    "        transforms.CenterCrop(input_size),\n",
    "        transforms.ToTensor(),\n",
    "        transforms.Normalize(mean=[0.485, 0.456, 0.406],\n",
    "                             std=[0.229, 0.224, 0.225])\n",
    "    ])\n",
    "\n",
    "    # Dataset completo\n",
    "    dataset = datasets.ImageFolder(root=data_dir, transform=transform)\n",
    "    num_samples = len(dataset)\n",
    "    num_classes = len(dataset.classes)\n",
    "\n",
    "    # Calcular tamaños\n",
    "    train_size = int(num_samples * train_fraction)\n",
    "    val_size = int(num_samples * val_fraction)\n",
    "    test_size = num_samples - train_size - val_size  # lo que quede\n",
    "\n",
    "    # Split: train, val, test\n",
    "    train_data, val_data, test_data = random_split(dataset, [train_size, val_size, test_size])\n",
    "\n",
    "    # DataLoaders\n",
    "    train_loader = DataLoader(train_data, batch_size=batch_size, shuffle=True, num_workers=8, pin_memory=True)\n",
    "    val_loader   = DataLoader(val_data,   batch_size=batch_size, shuffle=False, num_workers=8, pin_memory=True)\n",
    "    test_loader  = DataLoader(test_data,  batch_size=batch_size, shuffle=False, num_workers=8, pin_memory=True)\n",
    "\n",
    "    return train_loader, val_loader, test_loader, num_classes\n"
   ]
  },
  {
   "cell_type": "code",
   "execution_count": 6,
   "metadata": {},
   "outputs": [],
   "source": [
    "def evaluate_model(model, dataloader, criterion, device):\n",
    "    \"\"\"\n",
    "    Evalúa el modelo en un dataloader (por ejemplo, test_loader)\n",
    "    y retorna la pérdida y accuracy.\n",
    "    \"\"\"\n",
    "    model.eval()\n",
    "    running_loss = 0.0\n",
    "    running_corrects = 0\n",
    "\n",
    "    with torch.no_grad():\n",
    "        for inputs, labels in dataloader:\n",
    "            inputs, labels = inputs.to(device), labels.to(device)\n",
    "            outputs = model(inputs)\n",
    "            loss = criterion(outputs, labels)\n",
    "            _, preds = torch.max(outputs, 1)\n",
    "\n",
    "            running_loss += loss.item() * inputs.size(0)\n",
    "            running_corrects += torch.sum(preds == labels.data)\n",
    "\n",
    "    total_samples = len(dataloader.dataset)\n",
    "    final_loss = running_loss / total_samples\n",
    "    final_acc = running_corrects.double() / total_samples\n",
    "\n",
    "    return final_loss, final_acc.item()"
   ]
  },
  {
   "cell_type": "code",
   "execution_count": 7,
   "metadata": {},
   "outputs": [],
   "source": [
    "def train_model(\n",
    "    model_name: str,\n",
    "    data_dir: str,\n",
    "    batch_size: int = 32,\n",
    "    num_epochs: int = 30,\n",
    "    lr: float = 1e-4,\n",
    "    train_fraction: float = 0.8,\n",
    "    val_fraction: float = 0.1,\n",
    "    test_fraction: float = 0.1,\n",
    "    device: str = None\n",
    "):\n",
    "    \"\"\"\n",
    "    Función principal para entrenar un modelo con triple partición (train, val, test):\n",
    "      - Carga los DataLoaders\n",
    "      - Construye el modelo\n",
    "      - Realiza entrenamiento (train) y validación (val)\n",
    "      - Finalmente evalúa en test\n",
    "      - Retorna el modelo entrenado y un historial de métricas para graficar\n",
    "    \"\"\"\n",
    "    # Seleccionar dispositivo\n",
    "    if device is None:\n",
    "        device = torch.device(\"cuda\" if torch.cuda.is_available() else \"cpu\")\n",
    "    print(f\"Usando dispositivo: {device}\")\n",
    "\n",
    "    # 1) Obtener DataLoaders y número de clases\n",
    "    train_loader, val_loader, test_loader, num_classes = get_dataloaders(\n",
    "        data_dir=data_dir,\n",
    "        model_name=model_name,\n",
    "        batch_size=batch_size,\n",
    "        train_fraction=train_fraction,\n",
    "        val_fraction=val_fraction,\n",
    "        test_fraction=test_fraction\n",
    "    )\n",
    "\n",
    "    # 2) Construir modelo\n",
    "    model = get_model(model_name, num_classes).to(device)\n",
    "\n",
    "    # 3) Definir criterio de pérdida y optimizador\n",
    "    criterion = nn.CrossEntropyLoss()\n",
    "    optimizer = optim.Adam(model.parameters(), lr=lr)\n",
    "\n",
    "    # Para llevar registro del historial\n",
    "    train_loss_history = []\n",
    "    train_acc_history = []\n",
    "    val_loss_history = []\n",
    "    val_acc_history = []\n",
    "\n",
    "    best_model_wts = copy.deepcopy(model.state_dict())\n",
    "    best_acc = 0.0\n",
    "\n",
    "    for epoch in range(num_epochs):\n",
    "        print(f\"\\n📦 Epoch {epoch+1}/{num_epochs}\")\n",
    "        \n",
    "        for phase in [\"train\", \"val\"]:\n",
    "            if phase == \"train\":\n",
    "                model.train()\n",
    "                dataloader = train_loader\n",
    "            else:\n",
    "                model.eval()\n",
    "                dataloader = val_loader\n",
    "\n",
    "            running_loss = 0.0\n",
    "            running_corrects = 0\n",
    "\n",
    "            loop = tqdm(dataloader, desc=f\"{phase.capitalize()} Phase\")\n",
    "            for inputs, labels in loop:\n",
    "                inputs, labels = inputs.to(device), labels.to(device)\n",
    "\n",
    "                # Habilitar/Deshabilitar gradientes según la fase\n",
    "                with torch.set_grad_enabled(phase == \"train\"):\n",
    "                    outputs = model(inputs)\n",
    "                    loss = criterion(outputs, labels)\n",
    "                    _, preds = torch.max(outputs, 1)\n",
    "\n",
    "                    if phase == \"train\":\n",
    "                        optimizer.zero_grad()\n",
    "                        loss.backward()\n",
    "                        optimizer.step()\n",
    "\n",
    "                # Acumular métricas\n",
    "                running_loss += loss.item() * inputs.size(0)\n",
    "                running_corrects += torch.sum(preds == labels.data)\n",
    "\n",
    "            epoch_loss = running_loss / len(dataloader.dataset)\n",
    "            epoch_acc = running_corrects.double() / len(dataloader.dataset)\n",
    "\n",
    "            if phase == \"train\":\n",
    "                train_loss_history.append(epoch_loss)\n",
    "                train_acc_history.append(epoch_acc.item())\n",
    "            else:\n",
    "                val_loss_history.append(epoch_loss)\n",
    "                val_acc_history.append(epoch_acc.item())\n",
    "\n",
    "            print(f\"{phase} Loss: {epoch_loss:.4f} | Acc: {epoch_acc:.4f}\")\n",
    "\n",
    "            # Guardar el mejor modelo en función de la val_acc\n",
    "            if phase == \"val\" and epoch_acc > best_acc:\n",
    "                best_acc = epoch_acc\n",
    "                best_model_wts = copy.deepcopy(model.state_dict())\n",
    "\n",
    "    print(f\"\\n✅ Mejor accuracy en validación: {best_acc:.4f}\")\n",
    "\n",
    "    # Cargar mejores pesos\n",
    "    model.load_state_dict(best_model_wts)\n",
    "\n",
    "    # 4) Guardar modelo entrenado\n",
    "    save_name = f\"{model_name}_best_parallel.pth\"\n",
    "    torch.save(model.state_dict(), save_name)\n",
    "    print(f\"Modelo guardado como: {save_name}\")\n",
    "\n",
    "    # 5) Evaluar en el conjunto de test\n",
    "    test_loss, test_acc = evaluate_model(model, test_loader, criterion, device)\n",
    "    print(f\"\\n=== Evaluación en Test ===\\nTest Loss: {test_loss:.4f} | Test Acc: {test_acc:.4f}\")\n",
    "\n",
    "    # Retornamos el modelo y la historia de entrenamiento\n",
    "    return model, (train_loss_history, train_acc_history, val_loss_history, val_acc_history)"
   ]
  },
  {
   "cell_type": "code",
   "execution_count": 8,
   "metadata": {},
   "outputs": [],
   "source": [
    "def plot_training_curves(train_loss, train_acc, val_loss, val_acc):\n",
    "    \"\"\"\n",
    "    Crea dos gráficas:\n",
    "    1. Pérdida (loss) vs. época para train y val\n",
    "    2. Exactitud (accuracy) vs. época para train y val\n",
    "    \"\"\"\n",
    "    epochs = range(1, len(train_loss) + 1)\n",
    "\n",
    "    # Gráfico de pérdida\n",
    "    plt.figure()\n",
    "    plt.plot(epochs, train_loss, label='Train Loss')\n",
    "    plt.plot(epochs, val_loss, label='Validation Loss')\n",
    "    plt.xlabel('Epoch')\n",
    "    plt.ylabel('Loss')\n",
    "    plt.title('Loss over epochs')\n",
    "    plt.legend()\n",
    "    plt.show()\n",
    "\n",
    "    # Gráfico de exactitud\n",
    "    plt.figure()\n",
    "    plt.plot(epochs, train_acc, label='Train Accuracy')\n",
    "    plt.plot(epochs, val_acc, label='Validation Accuracy')\n",
    "    plt.xlabel('Epoch')\n",
    "    plt.ylabel('Accuracy')\n",
    "    plt.title('Accuracy over epochs')\n",
    "    plt.legend()\n",
    "    plt.show()"
   ]
  },
  {
   "cell_type": "code",
   "execution_count": 10,
   "metadata": {},
   "outputs": [
    {
     "name": "stdout",
     "output_type": "stream",
     "text": [
      "Usando dispositivo: cuda\n",
      "\n",
      "📦 Epoch 1/10\n"
     ]
    },
    {
     "name": "stderr",
     "output_type": "stream",
     "text": [
      "Train Phase: 100%|██████████| 32/32 [00:08<00:00,  3.81it/s]\n"
     ]
    },
    {
     "name": "stdout",
     "output_type": "stream",
     "text": [
      "train Loss: 0.9972 | Acc: 0.7366\n"
     ]
    },
    {
     "name": "stderr",
     "output_type": "stream",
     "text": [
      "Val Phase: 100%|██████████| 4/4 [00:01<00:00,  2.00it/s]\n"
     ]
    },
    {
     "name": "stdout",
     "output_type": "stream",
     "text": [
      "val Loss: 0.9593 | Acc: 0.8160\n",
      "\n",
      "📦 Epoch 2/10\n"
     ]
    },
    {
     "name": "stderr",
     "output_type": "stream",
     "text": [
      "Train Phase: 100%|██████████| 32/32 [00:08<00:00,  3.98it/s]\n"
     ]
    },
    {
     "name": "stdout",
     "output_type": "stream",
     "text": [
      "train Loss: 0.7750 | Acc: 0.9344\n"
     ]
    },
    {
     "name": "stderr",
     "output_type": "stream",
     "text": [
      "Val Phase: 100%|██████████| 4/4 [00:01<00:00,  2.20it/s]\n"
     ]
    },
    {
     "name": "stdout",
     "output_type": "stream",
     "text": [
      "val Loss: 0.6690 | Acc: 0.9360\n",
      "\n",
      "📦 Epoch 3/10\n"
     ]
    },
    {
     "name": "stderr",
     "output_type": "stream",
     "text": [
      "Train Phase: 100%|██████████| 32/32 [00:08<00:00,  3.82it/s]\n"
     ]
    },
    {
     "name": "stdout",
     "output_type": "stream",
     "text": [
      "train Loss: 0.5417 | Acc: 0.9642\n"
     ]
    },
    {
     "name": "stderr",
     "output_type": "stream",
     "text": [
      "Val Phase: 100%|██████████| 4/4 [00:01<00:00,  2.04it/s]\n"
     ]
    },
    {
     "name": "stdout",
     "output_type": "stream",
     "text": [
      "val Loss: 0.4022 | Acc: 0.9600\n",
      "\n",
      "📦 Epoch 4/10\n"
     ]
    },
    {
     "name": "stderr",
     "output_type": "stream",
     "text": [
      "Train Phase: 100%|██████████| 32/32 [00:08<00:00,  3.89it/s]\n"
     ]
    },
    {
     "name": "stdout",
     "output_type": "stream",
     "text": [
      "train Loss: 0.3309 | Acc: 0.9781\n"
     ]
    },
    {
     "name": "stderr",
     "output_type": "stream",
     "text": [
      "Val Phase: 100%|██████████| 4/4 [00:01<00:00,  2.03it/s]\n"
     ]
    },
    {
     "name": "stdout",
     "output_type": "stream",
     "text": [
      "val Loss: 0.2373 | Acc: 0.9920\n",
      "\n",
      "📦 Epoch 5/10\n"
     ]
    },
    {
     "name": "stderr",
     "output_type": "stream",
     "text": [
      "Train Phase: 100%|██████████| 32/32 [00:08<00:00,  3.91it/s]\n"
     ]
    },
    {
     "name": "stdout",
     "output_type": "stream",
     "text": [
      "train Loss: 0.1935 | Acc: 0.9901\n"
     ]
    },
    {
     "name": "stderr",
     "output_type": "stream",
     "text": [
      "Val Phase: 100%|██████████| 4/4 [00:01<00:00,  2.11it/s]\n"
     ]
    },
    {
     "name": "stdout",
     "output_type": "stream",
     "text": [
      "val Loss: 0.1343 | Acc: 0.9920\n",
      "\n",
      "📦 Epoch 6/10\n"
     ]
    },
    {
     "name": "stderr",
     "output_type": "stream",
     "text": [
      "Train Phase: 100%|██████████| 32/32 [00:08<00:00,  3.81it/s]\n"
     ]
    },
    {
     "name": "stdout",
     "output_type": "stream",
     "text": [
      "train Loss: 0.1085 | Acc: 0.9930\n"
     ]
    },
    {
     "name": "stderr",
     "output_type": "stream",
     "text": [
      "Val Phase: 100%|██████████| 4/4 [00:02<00:00,  1.94it/s]\n"
     ]
    },
    {
     "name": "stdout",
     "output_type": "stream",
     "text": [
      "val Loss: 0.0840 | Acc: 0.9920\n",
      "\n",
      "📦 Epoch 7/10\n"
     ]
    },
    {
     "name": "stderr",
     "output_type": "stream",
     "text": [
      "Train Phase: 100%|██████████| 32/32 [00:08<00:00,  3.91it/s]\n"
     ]
    },
    {
     "name": "stdout",
     "output_type": "stream",
     "text": [
      "train Loss: 0.0757 | Acc: 0.9930\n"
     ]
    },
    {
     "name": "stderr",
     "output_type": "stream",
     "text": [
      "Val Phase: 100%|██████████| 4/4 [00:02<00:00,  1.76it/s]\n"
     ]
    },
    {
     "name": "stdout",
     "output_type": "stream",
     "text": [
      "val Loss: 0.0546 | Acc: 0.9920\n",
      "\n",
      "📦 Epoch 8/10\n"
     ]
    },
    {
     "name": "stderr",
     "output_type": "stream",
     "text": [
      "Train Phase: 100%|██████████| 32/32 [00:08<00:00,  3.78it/s]\n"
     ]
    },
    {
     "name": "stdout",
     "output_type": "stream",
     "text": [
      "train Loss: 0.0460 | Acc: 0.9970\n"
     ]
    },
    {
     "name": "stderr",
     "output_type": "stream",
     "text": [
      "Val Phase: 100%|██████████| 4/4 [00:01<00:00,  2.00it/s]\n"
     ]
    },
    {
     "name": "stdout",
     "output_type": "stream",
     "text": [
      "val Loss: 0.0443 | Acc: 0.9920\n",
      "\n",
      "📦 Epoch 9/10\n"
     ]
    },
    {
     "name": "stderr",
     "output_type": "stream",
     "text": [
      "Train Phase: 100%|██████████| 32/32 [00:08<00:00,  3.75it/s]\n"
     ]
    },
    {
     "name": "stdout",
     "output_type": "stream",
     "text": [
      "train Loss: 0.0323 | Acc: 0.9980\n"
     ]
    },
    {
     "name": "stderr",
     "output_type": "stream",
     "text": [
      "Val Phase: 100%|██████████| 4/4 [00:01<00:00,  2.05it/s]\n"
     ]
    },
    {
     "name": "stdout",
     "output_type": "stream",
     "text": [
      "val Loss: 0.0333 | Acc: 1.0000\n",
      "\n",
      "📦 Epoch 10/10\n"
     ]
    },
    {
     "name": "stderr",
     "output_type": "stream",
     "text": [
      "Train Phase: 100%|██████████| 32/32 [00:08<00:00,  3.91it/s]\n"
     ]
    },
    {
     "name": "stdout",
     "output_type": "stream",
     "text": [
      "train Loss: 0.0280 | Acc: 0.9990\n"
     ]
    },
    {
     "name": "stderr",
     "output_type": "stream",
     "text": [
      "Val Phase: 100%|██████████| 4/4 [00:01<00:00,  2.03it/s]\n"
     ]
    },
    {
     "name": "stdout",
     "output_type": "stream",
     "text": [
      "val Loss: 0.0264 | Acc: 1.0000\n",
      "\n",
      "✅ Mejor accuracy en validación: 1.0000\n",
      "Modelo guardado como: resnet50_best_parallel.pth\n",
      "\n",
      "=== Evaluación en Test ===\n",
      "Test Loss: 0.0295 | Test Acc: 1.0000\n"
     ]
    },
    {
     "data": {
      "image/png": "[encoded data removed]",
      "text/plain": [
       "<Figure size 640x480 with 1 Axes>"
      ]
     },
     "metadata": {},
     "output_type": "display_data"
    },
    {
     "data": {
      "image/png": "[encoded data removed]",
      "text/plain": [
       "<Figure size 640x480 with 1 Axes>"
      ]
     },
     "metadata": {},
     "output_type": "display_data"
    }
   ],
   "source": [
    "# Parámetros de ejemplo\n",
    "MODEL_NAME = \"resnet50\"\n",
    "DATA_DIR = \"/home/nahumfg/Projects/GithubProjects/TesisTransparenciaDataset/data/b_classification\"\n",
    "BATCH_SIZE = 32\n",
    "NUM_EPOCHS = 10\n",
    "LR = 1e-5\n",
    "\n",
    "# Queremos 80% train, 10% val, 10% test\n",
    "TRAIN_FRACTION = 0.8\n",
    "VAL_FRACTION = 0.1\n",
    "TEST_FRACTION = 0.1\n",
    "\n",
    "# Entrenar modelo\n",
    "trained_model, history = train_model(\n",
    "    model_name=MODEL_NAME,\n",
    "    data_dir=DATA_DIR,\n",
    "    batch_size=BATCH_SIZE,\n",
    "    num_epochs=NUM_EPOCHS,\n",
    "    lr=LR,\n",
    "    train_fraction=TRAIN_FRACTION,\n",
    "    val_fraction=VAL_FRACTION,\n",
    "    test_fraction=TEST_FRACTION,\n",
    "    device='cuda'\n",
    ")\n",
    "\n",
    "# Desempaquetar historia\n",
    "train_loss_history, train_acc_history, val_loss_history, val_acc_history = history\n",
    "\n",
    "# Graficar\n",
    "plot_training_curves(\n",
    "    train_loss=train_loss_history,\n",
    "    train_acc=train_acc_history,\n",
    "    val_loss=val_loss_history,\n",
    "    val_acc=val_acc_history\n",
    ")"
   ]
  },
  {
   "cell_type": "code",
   "execution_count": null,
   "metadata": {},
   "outputs": [],
   "source": []
  },
  {
   "cell_type": "code",
   "execution_count": null,
   "metadata": {},
   "outputs": [],
   "source": []
  }
 ],
 "metadata": {
  "kernelspec": {
   "display_name": "venv_tesisdataset",
   "language": "python",
   "name": "python3"
  },
  "language_info": {
   "codemirror_mode": {
    "name": "ipython",
    "version": 3
   },
   "file_extension": ".py",
   "mimetype": "text/x-python",
   "name": "python",
   "nbconvert_exporter": "python",
   "pygments_lexer": "ipython3",
   "version": "3.10.12"
  }
 },
 "nbformat": 4,
 "nbformat_minor": 2
}
